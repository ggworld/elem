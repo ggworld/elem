{
 "cells": [
  {
   "cell_type": "code",
   "execution_count": null,
   "metadata": {},
   "outputs": [],
   "source": [
    "import boto3\n",
    "client = boto3.client('s3')\n",
    "PREFIX = 's3://elementor-pipelines/'\n",
    "my_bucket='elementor-t-ver'\n",
    "keys_to_check=['Key1','Key1']"
   ]
  },
  {
   "cell_type": "code",
   "execution_count": null,
   "metadata": {},
   "outputs": [],
   "source": [
    "all_data = client.list_objects_v2(\n",
    " Bucket='elementor-pipelines',\n",
    "    Prefix='data-pipeline',\n",
    ")"
   ]
  },
  {
   "cell_type": "code",
   "execution_count": null,
   "metadata": {},
   "outputs": [],
   "source": [
    "all_files=[x1['Key'] for x1 in [ x for x in all_data['Contents'] ] if (lambda x : True if ('.sh' in x or '.sql' in x) and not 'archive' in x else False)(x1['Key'])]"
   ]
  },
  {
   "cell_type": "code",
   "execution_count": null,
   "metadata": {},
   "outputs": [],
   "source": [
    "print('number of total relevat files in {} {}'.format(PREFIX, len(all_files)))"
   ]
  },
  {
   "cell_type": "code",
   "execution_count": null,
   "metadata": {},
   "outputs": [],
   "source": [
    "l_all_f=[]\n",
    "tot_a=0\n",
    "for fi in all_files:\n",
    "    tf=open(PREFIX+fi)\n",
    "    ts=tf.read()\n",
    "    tot_in_f=sum([ts.count(x) for x in keys_to_check])\n",
    "    tot_a+=tot_in_f\n",
    "    if tot_in_f:\n",
    "        l_all_f.append(PREFIX+fi)\n",
    "        print('in file {} found {}'.format(fi,tot_in_f))\n",
    "if tot_a:\n",
    "    print"
   ]
  },
  {
   "cell_type": "code",
   "execution_count": null,
   "metadata": {},
   "outputs": [],
   "source": [
    "keys_to_replace=[{'Key':'Key1','Secret':'Secret2'},{'Key':'Key2','Secret':'Secret2'}]\n",
    "new_key={'Key':'Key3','Secret':'Secret3'}"
   ]
  },
  {
   "cell_type": "code",
   "execution_count": null,
   "metadata": {},
   "outputs": [],
   "source": [
    "\n",
    "code_bucket=''\n",
    "for n,fi in enumerate(l_all_f):\n",
    "    if n<1000:\n",
    "        tf=open(fi)\n",
    "        ts=tf.read()\n",
    "        res = client.put_object(\n",
    "            Body=ts,\n",
    "            Bucket=my_bucket,\n",
    "            Key='archive/'+'/'.join(fi.split('/')[2:]))\n",
    "        print(res)\n",
    "        for keys in keys_to_replace:\n",
    "            ts=ts.replace(keys['Key'],new_key['Key'])\n",
    "            ts=ts.replace(keys['Secret'],new_key['Secret'])\n",
    "        res = client.put_object(\n",
    "            Body=ts,\n",
    "            Bucket=fi.split('/')[2:3][0],\n",
    "            Key='/'.join(fi.split('/')[3:]))\n",
    "        print(res)\n",
    "    else:\n",
    "        break"
   ]
  }
 ],
 "metadata": {
  "kernelspec": {
   "display_name": "Python 3",
   "language": "python",
   "name": "python3"
  },
  "language_info": {
   "codemirror_mode": {
    "name": "ipython",
    "version": 3
   },
   "file_extension": ".py",
   "mimetype": "text/x-python",
   "name": "python",
   "nbconvert_exporter": "python",
   "pygments_lexer": "ipython3",
   "version": "3.8.3"
  }
 },
 "nbformat": 4,
 "nbformat_minor": 4
}
